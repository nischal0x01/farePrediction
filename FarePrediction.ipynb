{
  "nbformat": 4,
  "nbformat_minor": 0,
  "metadata": {
    "colab": {
      "provenance": [],
      "mount_file_id": "1CRX6P8lA0m-2eGTSaqtoUG0_NYkPTECX",
      "authorship_tag": "ABX9TyN+HSmcByOBi/IgpoeekkgU",
      "include_colab_link": true
    },
    "kernelspec": {
      "name": "python3",
      "display_name": "Python 3"
    },
    "language_info": {
      "name": "python"
    }
  },
  "cells": [
    {
      "cell_type": "markdown",
      "metadata": {
        "id": "view-in-github",
        "colab_type": "text"
      },
      "source": [
        "<a href=\"https://colab.research.google.com/github/nischal0x01/farePrediction/blob/main/FarePrediction.ipynb\" target=\"_parent\"><img src=\"https://colab.research.google.com/assets/colab-badge.svg\" alt=\"Open In Colab\"/></a>"
      ]
    },
    {
      "cell_type": "code",
      "execution_count": 141,
      "metadata": {
        "id": "5O28BssleqXZ"
      },
      "outputs": [],
      "source": [
        "# Importing necessary libraries\n",
        "import pandas as pd\n",
        "import numpy as np\n",
        "import matplotlib.pyplot as plt\n",
        "import seaborn as sns\n"
      ]
    },
    {
      "cell_type": "code",
      "source": [
        "# Loading the file\n",
        "from google.colab import drive\n",
        "drive.mount('/content/drive')\n",
        "file_path = '/content/drive/MyDrive/uber.csv'  # Update this path based on your actual file location in Google Drive\n",
        "df = pd.read_csv(file_path)\n"
      ],
      "metadata": {
        "colab": {
          "base_uri": "https://localhost:8080/"
        },
        "id": "phZtJOtkf61-",
        "outputId": "f9f75e94-87e9-4ae5-f072-ea54489e5f32"
      },
      "execution_count": 142,
      "outputs": [
        {
          "output_type": "stream",
          "name": "stdout",
          "text": [
            "Drive already mounted at /content/drive; to attempt to forcibly remount, call drive.mount(\"/content/drive\", force_remount=True).\n"
          ]
        }
      ]
    },
    {
      "cell_type": "code",
      "source": [
        "# Verify the loaded dataset\n",
        "df.info()\n"
      ],
      "metadata": {
        "colab": {
          "base_uri": "https://localhost:8080/"
        },
        "id": "uF7UjDL9gEmy",
        "outputId": "b74fa251-7b1c-4723-87e0-11aedf406dcd"
      },
      "execution_count": 143,
      "outputs": [
        {
          "output_type": "stream",
          "name": "stdout",
          "text": [
            "<class 'pandas.core.frame.DataFrame'>\n",
            "RangeIndex: 200000 entries, 0 to 199999\n",
            "Data columns (total 9 columns):\n",
            " #   Column             Non-Null Count   Dtype  \n",
            "---  ------             --------------   -----  \n",
            " 0   Unnamed: 0         200000 non-null  int64  \n",
            " 1   key                200000 non-null  object \n",
            " 2   fare_amount        200000 non-null  float64\n",
            " 3   pickup_datetime    200000 non-null  object \n",
            " 4   pickup_longitude   200000 non-null  float64\n",
            " 5   pickup_latitude    200000 non-null  float64\n",
            " 6   dropoff_longitude  199999 non-null  float64\n",
            " 7   dropoff_latitude   199999 non-null  float64\n",
            " 8   passenger_count    200000 non-null  int64  \n",
            "dtypes: float64(5), int64(2), object(2)\n",
            "memory usage: 13.7+ MB\n"
          ]
        }
      ]
    },
    {
      "cell_type": "code",
      "source": [
        "#Handling Missing Data\n",
        "\n",
        "\n",
        "\n",
        "# Check for missing values in the dataset\n",
        "missing_data = df.isnull().sum()"
      ],
      "metadata": {
        "id": "sywHDCZGgLcx"
      },
      "execution_count": 144,
      "outputs": []
    },
    {
      "cell_type": "code",
      "source": [
        "# Display the percentage of missing values for each column\n",
        "missing_percentage = (missing_data / len(df)) * 100\n",
        "print(\"Missing Data Percentage:\\n\", missing_percentage)"
      ],
      "metadata": {
        "colab": {
          "base_uri": "https://localhost:8080/"
        },
        "id": "H0vLobLOgYrJ",
        "outputId": "5aecf6b3-0abd-4ca7-b196-dee0a2860977"
      },
      "execution_count": 145,
      "outputs": [
        {
          "output_type": "stream",
          "name": "stdout",
          "text": [
            "Missing Data Percentage:\n",
            " Unnamed: 0           0.0000\n",
            "key                  0.0000\n",
            "fare_amount          0.0000\n",
            "pickup_datetime      0.0000\n",
            "pickup_longitude     0.0000\n",
            "pickup_latitude      0.0000\n",
            "dropoff_longitude    0.0005\n",
            "dropoff_latitude     0.0005\n",
            "passenger_count      0.0000\n",
            "dtype: float64\n"
          ]
        }
      ]
    },
    {
      "cell_type": "code",
      "source": [
        "# Drop rows with missing values\n",
        "df_cleaned = df.dropna()\n"
      ],
      "metadata": {
        "id": "90PUJ96Wgd_q"
      },
      "execution_count": 146,
      "outputs": []
    },
    {
      "cell_type": "code",
      "source": [
        "# Check if missing data has been removed\n",
        "print(df_cleaned.isnull().sum())"
      ],
      "metadata": {
        "colab": {
          "base_uri": "https://localhost:8080/"
        },
        "id": "68XLwl0_giW6",
        "outputId": "65808263-b399-47d9-cb7b-146d45850827"
      },
      "execution_count": 147,
      "outputs": [
        {
          "output_type": "stream",
          "name": "stdout",
          "text": [
            "Unnamed: 0           0\n",
            "key                  0\n",
            "fare_amount          0\n",
            "pickup_datetime      0\n",
            "pickup_longitude     0\n",
            "pickup_latitude      0\n",
            "dropoff_longitude    0\n",
            "dropoff_latitude     0\n",
            "passenger_count      0\n",
            "dtype: int64\n"
          ]
        }
      ]
    },
    {
      "cell_type": "code",
      "source": [
        "# Loop through each numeric column and fill missing values with the median of that column\n",
        "for col in df.select_dtypes(include=np.number):\n",
        "    df[col].fillna(df[col].median(), inplace=True)"
      ],
      "metadata": {
        "id": "OITPlSiYhBf2"
      },
      "execution_count": 148,
      "outputs": []
    },
    {
      "cell_type": "code",
      "source": [
        "# Check again for missing data after imputation\n",
        "print(df.isnull().sum())"
      ],
      "metadata": {
        "colab": {
          "base_uri": "https://localhost:8080/"
        },
        "id": "w8yFY5byhSrx",
        "outputId": "5e2f3536-272c-4acb-f8dd-bc2fd5de0703"
      },
      "execution_count": 149,
      "outputs": [
        {
          "output_type": "stream",
          "name": "stdout",
          "text": [
            "Unnamed: 0           0\n",
            "key                  0\n",
            "fare_amount          0\n",
            "pickup_datetime      0\n",
            "pickup_longitude     0\n",
            "pickup_latitude      0\n",
            "dropoff_longitude    0\n",
            "dropoff_latitude     0\n",
            "passenger_count      0\n",
            "dtype: int64\n"
          ]
        }
      ]
    },
    {
      "cell_type": "code",
      "source": [
        "# Feature Engineering\n",
        "\n",
        "\n",
        "# Convert 'pickup_datetime' to datetime if not already in that format\n",
        "df['pickup_datetime'] = pd.to_datetime(df['pickup_datetime'])"
      ],
      "metadata": {
        "id": "LgFY12DnhVEX"
      },
      "execution_count": 150,
      "outputs": []
    },
    {
      "cell_type": "code",
      "source": [
        "# Extract hour from 'pickup_datetime'\n",
        "df['pickup_hour'] = df['pickup_datetime'].dt.hour"
      ],
      "metadata": {
        "id": "FXyqvlPWhh6A"
      },
      "execution_count": 151,
      "outputs": []
    },
    {
      "cell_type": "code",
      "source": [
        "# Define function to categorize time of day\n",
        "def categorize_time(hour):\n",
        "    if 5 <= hour < 12:\n",
        "        return 'morning'\n",
        "    elif 12 <= hour < 17:\n",
        "        return 'afternoon'\n",
        "    elif 17 <= hour < 21:\n",
        "        return 'evening'\n",
        "    else:\n",
        "        return 'night'"
      ],
      "metadata": {
        "id": "gCBfhhpVhk3o"
      },
      "execution_count": 152,
      "outputs": []
    },
    {
      "cell_type": "code",
      "source": [
        "# Apply the function to create a new 'time_of_day' column\n",
        "df['time_of_day'] = df['pickup_hour'].apply(categorize_time)\n"
      ],
      "metadata": {
        "id": "sajaJzEBhmy7"
      },
      "execution_count": 153,
      "outputs": []
    },
    {
      "cell_type": "code",
      "source": [
        "# Verify the new column\n",
        "print(df[['pickup_hour', 'time_of_day']].head())"
      ],
      "metadata": {
        "colab": {
          "base_uri": "https://localhost:8080/"
        },
        "id": "c6lvKjyshoo4",
        "outputId": "f77d316f-b3d4-4ae0-b5df-92ce9171a621"
      },
      "execution_count": 154,
      "outputs": [
        {
          "output_type": "stream",
          "name": "stdout",
          "text": [
            "   pickup_hour time_of_day\n",
            "0           19     evening\n",
            "1           20     evening\n",
            "2           21       night\n",
            "3            8     morning\n",
            "4           17     evening\n"
          ]
        }
      ]
    },
    {
      "cell_type": "code",
      "source": [
        "from math import radians, sin, cos, sqrt, atan2\n"
      ],
      "metadata": {
        "id": "AUsjVKrxhp2d"
      },
      "execution_count": 155,
      "outputs": []
    },
    {
      "cell_type": "code",
      "source": [
        "# Function to calculate Haversine distance\n",
        "def haversine(lat1, lon1, lat2, lon2):\n",
        "    R = 6371  # Radius of Earth in kilometers\n",
        "    dlat = radians(lat2 - lat1)\n",
        "    dlon = radians(lon2 - lon1)\n",
        "    a = sin(dlat / 2) ** 2 + cos(radians(lat1)) * cos(radians(lat2)) * sin(dlon / 2) ** 2\n",
        "    c = 2 * atan2(sqrt(a), sqrt(1 - a))\n",
        "    distance = R * c\n",
        "    return distance"
      ],
      "metadata": {
        "id": "KlD2zl7nhrlL"
      },
      "execution_count": 156,
      "outputs": []
    },
    {
      "cell_type": "code",
      "source": [
        "# Apply the Haversine function to calculate the distance for each ride\n",
        "df['distance_km'] = df.apply(lambda row: haversine(row['pickup_latitude'], row['pickup_longitude'],\n",
        "                                                   row['dropoff_latitude'], row['dropoff_longitude']), axis=1)"
      ],
      "metadata": {
        "id": "SiKkSoVWh_tU"
      },
      "execution_count": 157,
      "outputs": []
    },
    {
      "cell_type": "code",
      "source": [
        "# Verify the new column\n",
        "print(df[['pickup_latitude', 'pickup_longitude', 'dropoff_latitude', 'dropoff_longitude', 'distance_km']].head())"
      ],
      "metadata": {
        "colab": {
          "base_uri": "https://localhost:8080/"
        },
        "id": "QhO8RuVWiBsP",
        "outputId": "369a8aa3-69d1-41b0-ad4f-a8f8cb4e363e"
      },
      "execution_count": 158,
      "outputs": [
        {
          "output_type": "stream",
          "name": "stdout",
          "text": [
            "   pickup_latitude  pickup_longitude  dropoff_latitude  dropoff_longitude  \\\n",
            "0        40.738354        -73.999817         40.723217         -73.999512   \n",
            "1        40.728225        -73.994355         40.750325         -73.994710   \n",
            "2        40.740770        -74.005043         40.772647         -73.962565   \n",
            "3        40.790844        -73.976124         40.803349         -73.965316   \n",
            "4        40.744085        -73.925023         40.761247         -73.973082   \n",
            "\n",
            "   distance_km  \n",
            "0     1.683323  \n",
            "1     2.457590  \n",
            "2     5.036377  \n",
            "3     1.661683  \n",
            "4     4.475450  \n"
          ]
        }
      ]
    },
    {
      "cell_type": "code",
      "source": [
        "# Categorize distance into 'short', 'medium', and 'long'\n",
        "def categorize_distance(distance):\n",
        "    if distance < 2:\n",
        "        return 'short'\n",
        "    elif 2 <= distance < 8:\n",
        "        return 'medium'\n",
        "    else:\n",
        "        return 'long'"
      ],
      "metadata": {
        "id": "Iz_MmeGEiGBh"
      },
      "execution_count": 159,
      "outputs": []
    },
    {
      "cell_type": "code",
      "source": [
        "# Apply the function to create a new 'distance_category' column\n",
        "df['distance_category'] = df['distance_km'].apply(categorize_distance)"
      ],
      "metadata": {
        "id": "o9u0hPaqiH_v"
      },
      "execution_count": 160,
      "outputs": []
    },
    {
      "cell_type": "code",
      "source": [
        "# Verify the new column\n",
        "print(df[['distance_km', 'distance_category']].head())"
      ],
      "metadata": {
        "colab": {
          "base_uri": "https://localhost:8080/"
        },
        "id": "wXfPHD8aiJrC",
        "outputId": "8f851c7e-702c-449e-b8cd-ba8f6383e649"
      },
      "execution_count": 161,
      "outputs": [
        {
          "output_type": "stream",
          "name": "stdout",
          "text": [
            "   distance_km distance_category\n",
            "0     1.683323             short\n",
            "1     2.457590            medium\n",
            "2     5.036377            medium\n",
            "3     1.661683             short\n",
            "4     4.475450            medium\n"
          ]
        }
      ]
    },
    {
      "cell_type": "code",
      "source": [
        "#Splitting the database\n"
      ],
      "metadata": {
        "id": "dK5hKxAUiLFz"
      },
      "execution_count": 162,
      "outputs": []
    },
    {
      "cell_type": "code",
      "source": [
        "from sklearn.model_selection import train_test_split\n"
      ],
      "metadata": {
        "id": "Goj-Nn8_iWiV"
      },
      "execution_count": 163,
      "outputs": []
    },
    {
      "cell_type": "code",
      "source": [
        "# Features and target variable\n",
        "X = df.drop(['fare_amount'], axis=1)  # Drop the target column 'fare_amount'\n",
        "y = df['fare_amount']  # Target variable"
      ],
      "metadata": {
        "id": "iHoh6DV1iYc_"
      },
      "execution_count": 164,
      "outputs": []
    },
    {
      "cell_type": "code",
      "source": [
        "# Split the data into training and testing sets (70% training, 30% testing)\n",
        "X_train, X_test, y_train, y_test = train_test_split(X, y, test_size=0.3, random_state=42)\n"
      ],
      "metadata": {
        "id": "8FLkKQ5BiZpe"
      },
      "execution_count": 165,
      "outputs": []
    },
    {
      "cell_type": "code",
      "source": [
        "# Print the size of the training and testing sets\n",
        "print(f\"Training set size: {X_train.shape[0]}\")\n",
        "print(f\"Test set size: {X_test.shape[0]}\")"
      ],
      "metadata": {
        "colab": {
          "base_uri": "https://localhost:8080/"
        },
        "id": "Ni9D69G6ibAx",
        "outputId": "31dee693-6eb4-49d8-e606-2a6e0ee890a5"
      },
      "execution_count": 166,
      "outputs": [
        {
          "output_type": "stream",
          "name": "stdout",
          "text": [
            "Training set size: 140000\n",
            "Test set size: 60000\n"
          ]
        }
      ]
    },
    {
      "cell_type": "code",
      "source": [
        "#Data Scaling and Normalization\n"
      ],
      "metadata": {
        "id": "qoJ_TCbeidsM"
      },
      "execution_count": 167,
      "outputs": []
    },
    {
      "cell_type": "code",
      "source": [
        "from sklearn.preprocessing import StandardScaler"
      ],
      "metadata": {
        "id": "jNjTmSvGilQC"
      },
      "execution_count": 168,
      "outputs": []
    },
    {
      "cell_type": "code",
      "source": [
        "# Initialize the scaler\n",
        "scaler = StandardScaler()"
      ],
      "metadata": {
        "id": "NFAjOukYinJZ"
      },
      "execution_count": 169,
      "outputs": []
    },
    {
      "cell_type": "code",
      "source": [
        "# Select only numeric columns for scaling\n",
        "numeric_cols = X_train.select_dtypes(include=[np.number]).columns\n"
      ],
      "metadata": {
        "id": "4BPyKRZNiqTG"
      },
      "execution_count": 170,
      "outputs": []
    },
    {
      "cell_type": "code",
      "source": [
        "# Fit and transform the training data\n",
        "X_train_scaled = scaler.fit_transform(X_train[numeric_cols])\n"
      ],
      "metadata": {
        "id": "yKjUAOIPi523"
      },
      "execution_count": 171,
      "outputs": []
    },
    {
      "cell_type": "code",
      "source": [
        "# Transform the test data\n",
        "X_test_scaled = scaler.transform(X_test[numeric_cols])"
      ],
      "metadata": {
        "id": "bjCqoA0Qi8uJ"
      },
      "execution_count": 172,
      "outputs": []
    },
    {
      "cell_type": "code",
      "source": [
        "# Verify the result\n",
        "print(\"Scaled Training Data:\")\n",
        "print(X_train_scaled[:5])  # Display first 5 rows of the scaled training set"
      ],
      "metadata": {
        "colab": {
          "base_uri": "https://localhost:8080/"
        },
        "id": "15Ff_Pf_i-WD",
        "outputId": "2d8db464-c468-4473-e020-228db841816e"
      },
      "execution_count": 173,
      "outputs": [
        {
          "output_type": "stream",
          "name": "stdout",
          "text": [
            "Scaled Training Data:\n",
            "[[ 0.78602268 -0.12547564  0.09815223 -0.10380115  0.12104494 -0.48237075\n",
            "  -0.84199713 -0.04776201]\n",
            " [ 0.68269635 -0.12506577  0.0997789  -0.10515233  0.11810617 -0.48237075\n",
            "   0.99910446 -0.04895894]\n",
            " [-1.08067116 -0.12477239  0.09704678 -0.10237727  0.12485944  0.22243012\n",
            "  -1.76254792 -0.03731604]\n",
            " [ 0.93918744 -0.12548152  0.09889064 -0.10422332  0.11778434 -0.48237075\n",
            "  -0.68857199 -0.0497222 ]\n",
            " [-0.98497355 -0.12470381  0.0956604  -0.10571471  0.11530797 -0.48237075\n",
            "  -0.84199713 -0.05006353]]\n"
          ]
        }
      ]
    },
    {
      "cell_type": "code",
      "source": [
        "from sklearn.preprocessing import MinMaxScaler"
      ],
      "metadata": {
        "id": "3Jv8s-61i_vL"
      },
      "execution_count": 174,
      "outputs": []
    },
    {
      "cell_type": "code",
      "source": [
        "# Initialize the MinMaxScaler\n",
        "min_max_scaler = MinMaxScaler()"
      ],
      "metadata": {
        "id": "fbzL296fjC06"
      },
      "execution_count": 175,
      "outputs": []
    },
    {
      "cell_type": "code",
      "source": [
        "# Select only numeric columns for scaling\n",
        "numeric_cols = X_train.select_dtypes(include=[np.number]).columns\n"
      ],
      "metadata": {
        "id": "65PzcJIIjGXn"
      },
      "execution_count": 176,
      "outputs": []
    },
    {
      "cell_type": "code",
      "source": [
        "# Fit and transform only the numeric columns for the training set\n",
        "X_train_scaled_numeric = scaler.fit_transform(X_train[numeric_cols])\n"
      ],
      "metadata": {
        "id": "pesiINUEjPp6"
      },
      "execution_count": 177,
      "outputs": []
    },
    {
      "cell_type": "code",
      "source": [
        "# Apply the same scaler to the test set numeric columns\n",
        "X_test_scaled_numeric = scaler.transform(X_test[numeric_cols])"
      ],
      "metadata": {
        "id": "dl3iMwBPjUXE"
      },
      "execution_count": 178,
      "outputs": []
    },
    {
      "cell_type": "code",
      "source": [
        "# Convert scaled data back to DataFrame (with the same column names)\n",
        "X_train_scaled_numeric = pd.DataFrame(X_train_scaled_numeric, columns=numeric_cols, index=X_train.index)\n",
        "X_test_scaled_numeric = pd.DataFrame(X_test_scaled_numeric, columns=numeric_cols, index=X_test.index)"
      ],
      "metadata": {
        "id": "iJ0dkPo1jWEn"
      },
      "execution_count": 179,
      "outputs": []
    },
    {
      "cell_type": "code",
      "source": [
        "# Now combine scaled numeric columns with non-numeric columns (if any)\n",
        "X_train_scaled = X_train_scaled_numeric.join(X_train.drop(columns=numeric_cols))\n",
        "X_test_scaled = X_test_scaled_numeric.join(X_test.drop(columns=numeric_cols))"
      ],
      "metadata": {
        "id": "qfl4Ryn-jYMX"
      },
      "execution_count": 180,
      "outputs": []
    },
    {
      "cell_type": "code",
      "source": [
        "# Verify the result\n",
        "print(\"Scaled Training Data (first 5 rows):\")\n",
        "print(X_train_scaled.head())"
      ],
      "metadata": {
        "colab": {
          "base_uri": "https://localhost:8080/"
        },
        "id": "gYb8KMYgjZ_i",
        "outputId": "ff7925f6-98a7-48fd-e59c-7dd1d3681e5a"
      },
      "execution_count": 181,
      "outputs": [
        {
          "output_type": "stream",
          "name": "stdout",
          "text": [
            "Scaled Training Data (first 5 rows):\n",
            "        Unnamed: 0  pickup_longitude  pickup_latitude  dropoff_longitude  \\\n",
            "21269     0.786023         -0.125476         0.098152          -0.103801   \n",
            "187660    0.682696         -0.125066         0.099779          -0.105152   \n",
            "774      -1.080671         -0.124772         0.097047          -0.102377   \n",
            "184577    0.939187         -0.125482         0.098891          -0.104223   \n",
            "37127    -0.984974         -0.124704         0.095660          -0.105715   \n",
            "\n",
            "        dropoff_latitude  passenger_count  pickup_hour  distance_km  \\\n",
            "21269           0.121045        -0.482371    -0.841997    -0.047762   \n",
            "187660          0.118106        -0.482371     0.999104    -0.048959   \n",
            "774             0.124859         0.222430    -1.762548    -0.037316   \n",
            "184577          0.117784        -0.482371    -0.688572    -0.049722   \n",
            "37127           0.115308        -0.482371    -0.841997    -0.050064   \n",
            "\n",
            "                                  key           pickup_datetime time_of_day  \\\n",
            "21269    2013-09-21 08:38:00.00000090 2013-09-21 08:38:00+00:00     morning   \n",
            "187660  2011-02-28 20:34:00.000000158 2011-02-28 20:34:00+00:00     evening   \n",
            "774     2014-08-23 02:41:00.000000120 2014-08-23 02:41:00+00:00       night   \n",
            "184577    2011-02-25 09:42:42.0000001 2011-02-25 09:42:42+00:00     morning   \n",
            "37127     2014-07-18 08:55:50.0000003 2014-07-18 08:55:50+00:00     morning   \n",
            "\n",
            "       distance_category  \n",
            "21269             medium  \n",
            "187660             short  \n",
            "774               medium  \n",
            "184577             short  \n",
            "37127              short  \n"
          ]
        }
      ]
    },
    {
      "cell_type": "code",
      "source": [
        "# Correlation Analysis\n"
      ],
      "metadata": {
        "id": "0DNoKNd5jcfL"
      },
      "execution_count": 182,
      "outputs": []
    },
    {
      "cell_type": "code",
      "source": [
        "# Select only numeric columns from the dataset\n",
        "numeric_df = df.select_dtypes(include=[np.number])"
      ],
      "metadata": {
        "id": "IuPkUK_WjrTY"
      },
      "execution_count": 183,
      "outputs": []
    },
    {
      "cell_type": "code",
      "source": [
        "# Compute the correlation matrix for numeric features\n",
        "correlation_matrix = numeric_df.corr()"
      ],
      "metadata": {
        "id": "XCLGiDnTj4MB"
      },
      "execution_count": 184,
      "outputs": []
    },
    {
      "cell_type": "code",
      "source": [
        "# Display the correlation of features with the target variable 'fare_amount'\n",
        "print(correlation_matrix['fare_amount'].sort_values(ascending=False))"
      ],
      "metadata": {
        "colab": {
          "base_uri": "https://localhost:8080/"
        },
        "id": "nAiUop6Pj6El",
        "outputId": "a7b4841b-15ab-4a5e-aa79-8011f98fb0a1"
      },
      "execution_count": 185,
      "outputs": [
        {
          "output_type": "stream",
          "name": "stdout",
          "text": [
            "fare_amount          1.000000\n",
            "distance_km          0.024684\n",
            "pickup_longitude     0.010457\n",
            "passenger_count      0.010150\n",
            "dropoff_longitude    0.008985\n",
            "Unnamed: 0           0.000589\n",
            "pickup_latitude     -0.008481\n",
            "dropoff_latitude    -0.011013\n",
            "pickup_hour         -0.021473\n",
            "Name: fare_amount, dtype: float64\n"
          ]
        }
      ]
    },
    {
      "cell_type": "code",
      "source": [
        "#Visualize"
      ],
      "metadata": {
        "id": "YDwKgT-Ij8Mf"
      },
      "execution_count": 186,
      "outputs": []
    },
    {
      "cell_type": "code",
      "source": [
        "import seaborn as sns\n",
        "import matplotlib.pyplot as plt"
      ],
      "metadata": {
        "id": "J_i4BJS_kAU-"
      },
      "execution_count": 187,
      "outputs": []
    },
    {
      "cell_type": "code",
      "source": [
        "# Set up the matplotlib figure\n",
        "plt.figure(figsize=(12, 8))"
      ],
      "metadata": {
        "colab": {
          "base_uri": "https://localhost:8080/",
          "height": 53
        },
        "id": "NWiXwfBgkA7t",
        "outputId": "260f64a1-5c8e-4752-d1bb-f87ebfb3b20b"
      },
      "execution_count": 188,
      "outputs": [
        {
          "output_type": "execute_result",
          "data": {
            "text/plain": [
              "<Figure size 1200x800 with 0 Axes>"
            ]
          },
          "metadata": {},
          "execution_count": 188
        },
        {
          "output_type": "display_data",
          "data": {
            "text/plain": [
              "<Figure size 1200x800 with 0 Axes>"
            ]
          },
          "metadata": {}
        }
      ]
    },
    {
      "cell_type": "code",
      "source": [
        "# Draw the heatmap for the correlation matrix\n",
        "sns.heatmap(correlation_matrix, annot=True, fmt=\".2f\", cmap='coolwarm', linewidths=0.5)"
      ],
      "metadata": {
        "colab": {
          "base_uri": "https://localhost:8080/",
          "height": 562
        },
        "id": "iVx-nGNzkChF",
        "outputId": "537a5374-c54c-47a8-943f-209e5cf84076"
      },
      "execution_count": 189,
      "outputs": [
        {
          "output_type": "execute_result",
          "data": {
            "text/plain": [
              "<Axes: >"
            ]
          },
          "metadata": {},
          "execution_count": 189
        },
        {
          "output_type": "display_data",
          "data": {
            "text/plain": [
              "<Figure size 640x480 with 2 Axes>"
            ],
            "image/png": "[encoded data removed]"
          },
          "metadata": {}
        }
      ]
    },
    {
      "cell_type": "code",
      "source": [
        "# Show the plot\n",
        "plt.title('Correlation Matrix')\n",
        "plt.show()"
      ],
      "metadata": {
        "colab": {
          "base_uri": "https://localhost:8080/",
          "height": 452
        },
        "id": "ff5Hkd9RkEJy",
        "outputId": "31bfac55-3b54-4a43-e5a8-34c1f5f9ed42"
      },
      "execution_count": 190,
      "outputs": [
        {
          "output_type": "display_data",
          "data": {
            "text/plain": [
              "<Figure size 640x480 with 1 Axes>"
            ],
            "image/png": "[encoded data removed]"
          },
          "metadata": {}
        }
      ]
    },
    {
      "cell_type": "code",
      "source": [
        "# Splitting the Dataset\n"
      ],
      "metadata": {
        "id": "lgds-yNnnH2e"
      },
      "execution_count": 191,
      "outputs": []
    },
    {
      "cell_type": "code",
      "source": [
        "import pandas as pd\n",
        "import numpy as np\n",
        "from sklearn.model_selection import train_test_split\n",
        "from sklearn.preprocessing import StandardScaler\n",
        "from sklearn.linear_model import LinearRegression\n",
        "from sklearn.metrics import mean_absolute_error, mean_squared_error, r2_score\n"
      ],
      "metadata": {
        "id": "-DDfB6LkoSF1"
      },
      "execution_count": 192,
      "outputs": []
    },
    {
      "cell_type": "code",
      "source": [
        "# Select only the numerical columns for regression\n",
        "numerical_df = df.select_dtypes(include=[np.number])"
      ],
      "metadata": {
        "id": "E7dl_nispPg9"
      },
      "execution_count": 193,
      "outputs": []
    },
    {
      "cell_type": "code",
      "source": [
        "# Define features (X) and target (y)\n",
        "X = numerical_df.drop(['fare_amount'], axis=1)  # Keep only the features\n",
        "y = df['fare_amount']  # Target variable\n"
      ],
      "metadata": {
        "id": "112Mnk9nqKcl"
      },
      "execution_count": 194,
      "outputs": []
    },
    {
      "cell_type": "code",
      "source": [
        "# Split into training and testing sets (70% train, 30% test)\n",
        "X_train, X_test, y_train, y_test = train_test_split(X, y, test_size=0.3, random_state=100)\n"
      ],
      "metadata": {
        "id": "jkYIkPW1qNZA"
      },
      "execution_count": 195,
      "outputs": []
    },
    {
      "cell_type": "code",
      "source": [
        "# Initialize Linear Regression model\n",
        "linear_model = LinearRegression()"
      ],
      "metadata": {
        "id": "rERWOqNpqQFn"
      },
      "execution_count": 196,
      "outputs": []
    },
    {
      "cell_type": "code",
      "source": [
        "# Train the model\n",
        "linear_model.fit(X_train, y_train)"
      ],
      "metadata": {
        "colab": {
          "base_uri": "https://localhost:8080/",
          "height": 75
        },
        "id": "WPSlZKiOqR36",
        "outputId": "661bd635-e871-427e-c27e-d963d26c8e68"
      },
      "execution_count": 197,
      "outputs": [
        {
          "output_type": "execute_result",
          "data": {
            "text/plain": [
              "LinearRegression()"
            ],
            "text/html": [
              "<style>#sk-container-id-3 {color: black;}#sk-container-id-3 pre{padding: 0;}#sk-container-id-3 div.sk-toggleable {background-color: white;}#sk-container-id-3 label.sk-toggleable__label {cursor: pointer;display: block;width: 100%;margin-bottom: 0;padding: 0.3em;box-sizing: border-box;text-align: center;}#sk-container-id-3 label.sk-toggleable__label-arrow:before {content: \"▸\";float: left;margin-right: 0.25em;color: #696969;}#sk-container-id-3 label.sk-toggleable__label-arrow:hover:before {color: black;}#sk-container-id-3 div.sk-estimator:hover label.sk-toggleable__label-arrow:before {color: black;}#sk-container-id-3 div.sk-toggleable__content {max-height: 0;max-width: 0;overflow: hidden;text-align: left;background-color: #f0f8ff;}#sk-container-id-3 div.sk-toggleable__content pre {margin: 0.2em;color: black;border-radius: 0.25em;background-color: #f0f8ff;}#sk-container-id-3 input.sk-toggleable__control:checked~div.sk-toggleable__content {max-height: 200px;max-width: 100%;overflow: auto;}#sk-container-id-3 input.sk-toggleable__control:checked~label.sk-toggleable__label-arrow:before {content: \"▾\";}#sk-container-id-3 div.sk-estimator input.sk-toggleable__control:checked~label.sk-toggleable__label {background-color: #d4ebff;}#sk-container-id-3 div.sk-label input.sk-toggleable__control:checked~label.sk-toggleable__label {background-color: #d4ebff;}#sk-container-id-3 input.sk-hidden--visually {border: 0;clip: rect(1px 1px 1px 1px);clip: rect(1px, 1px, 1px, 1px);height: 1px;margin: -1px;overflow: hidden;padding: 0;position: absolute;width: 1px;}#sk-container-id-3 div.sk-estimator {font-family: monospace;background-color: #f0f8ff;border: 1px dotted black;border-radius: 0.25em;box-sizing: border-box;margin-bottom: 0.5em;}#sk-container-id-3 div.sk-estimator:hover {background-color: #d4ebff;}#sk-container-id-3 div.sk-parallel-item::after {content: \"\";width: 100%;border-bottom: 1px solid gray;flex-grow: 1;}#sk-container-id-3 div.sk-label:hover label.sk-toggleable__label {background-color: #d4ebff;}#sk-container-id-3 div.sk-serial::before {content: \"\";position: absolute;border-left: 1px solid gray;box-sizing: border-box;top: 0;bottom: 0;left: 50%;z-index: 0;}#sk-container-id-3 div.sk-serial {display: flex;flex-direction: column;align-items: center;background-color: white;padding-right: 0.2em;padding-left: 0.2em;position: relative;}#sk-container-id-3 div.sk-item {position: relative;z-index: 1;}#sk-container-id-3 div.sk-parallel {display: flex;align-items: stretch;justify-content: center;background-color: white;position: relative;}#sk-container-id-3 div.sk-item::before, #sk-container-id-3 div.sk-parallel-item::before {content: \"\";position: absolute;border-left: 1px solid gray;box-sizing: border-box;top: 0;bottom: 0;left: 50%;z-index: -1;}#sk-container-id-3 div.sk-parallel-item {display: flex;flex-direction: column;z-index: 1;position: relative;background-color: white;}#sk-container-id-3 div.sk-parallel-item:first-child::after {align-self: flex-end;width: 50%;}#sk-container-id-3 div.sk-parallel-item:last-child::after {align-self: flex-start;width: 50%;}#sk-container-id-3 div.sk-parallel-item:only-child::after {width: 0;}#sk-container-id-3 div.sk-dashed-wrapped {border: 1px dashed gray;margin: 0 0.4em 0.5em 0.4em;box-sizing: border-box;padding-bottom: 0.4em;background-color: white;}#sk-container-id-3 div.sk-label label {font-family: monospace;font-weight: bold;display: inline-block;line-height: 1.2em;}#sk-container-id-3 div.sk-label-container {text-align: center;}#sk-container-id-3 div.sk-container {/* jupyter's `normalize.less` sets `[hidden] { display: none; }` but bootstrap.min.css set `[hidden] { display: none !important; }` so we also need the `!important` here to be able to override the default hidden behavior on the sphinx rendered scikit-learn.org. See: https://github.com/scikit-learn/scikit-learn/issues/21755 */display: inline-block !important;position: relative;}#sk-container-id-3 div.sk-text-repr-fallback {display: none;}</style><div id=\"sk-container-id-3\" class=\"sk-top-container\"><div class=\"sk-text-repr-fallback\"><pre>LinearRegression()</pre><b>In a Jupyter environment, please rerun this cell to show the HTML representation or trust the notebook. <br />On GitHub, the HTML representation is unable to render, please try loading this page with nbviewer.org.</b></div><div class=\"sk-container\" hidden><div class=\"sk-item\"><div class=\"sk-estimator sk-toggleable\"><input class=\"sk-toggleable__control sk-hidden--visually\" id=\"sk-estimator-id-3\" type=\"checkbox\" checked><label for=\"sk-estimator-id-3\" class=\"sk-toggleable__label sk-toggleable__label-arrow\">LinearRegression</label><div class=\"sk-toggleable__content\"><pre>LinearRegression()</pre></div></div></div></div></div>"
            ]
          },
          "metadata": {},
          "execution_count": 197
        }
      ]
    },
    {
      "cell_type": "code",
      "source": [
        "# Predict the fare amount on the test set\n",
        "y_pred = linear_model.predict(X_test)"
      ],
      "metadata": {
        "id": "rW1ny5SfqTut"
      },
      "execution_count": 198,
      "outputs": []
    },
    {
      "cell_type": "code",
      "source": [
        "# Evaluate the model\n",
        "mse = mean_squared_error(y_test, y_pred)\n",
        "mae = mean_absolute_error(y_test, y_pred)\n",
        "r2 = r2_score(y_test, y_pred)\n"
      ],
      "metadata": {
        "id": "GsoVn8gLqV3b"
      },
      "execution_count": 199,
      "outputs": []
    },
    {
      "cell_type": "code",
      "source": [
        "# Print the evaluation metrics\n",
        "print(f\"Linear Regression - Mean Squared Error (MSE): {mse}\")\n",
        "print(f\"Linear Regression - Mean Absolute Error (MAE): {mae}\")\n",
        "print(f\"Linear Regression - R-squared (R²): {r2}\")\n"
      ],
      "metadata": {
        "colab": {
          "base_uri": "https://localhost:8080/"
        },
        "id": "yX7TWK_VqXah",
        "outputId": "b37e5c63-4910-4023-f44e-b0250b23d45f"
      },
      "execution_count": 200,
      "outputs": [
        {
          "output_type": "stream",
          "name": "stdout",
          "text": [
            "Linear Regression - Mean Squared Error (MSE): 103.58974465910256\n",
            "Linear Regression - Mean Absolute Error (MAE): 6.058658904353604\n",
            "Linear Regression - R-squared (R²): 0.0009960688662122852\n"
          ]
        }
      ]
    },
    {
      "cell_type": "code",
      "source": [
        "# Fine Tuning\n"
      ],
      "metadata": {
        "id": "sXKIOZv3qZDc"
      },
      "execution_count": 201,
      "outputs": []
    },
    {
      "cell_type": "code",
      "source": [
        "from sklearn.model_selection import GridSearchCV"
      ],
      "metadata": {
        "id": "ywcBoqM8qyLT"
      },
      "execution_count": 202,
      "outputs": []
    },
    {
      "cell_type": "code",
      "source": [
        "# Define the model (e.g., GradientBoostingRegressor)\n",
        "from sklearn.ensemble import GradientBoostingRegressor\n"
      ],
      "metadata": {
        "id": "-_XjWbxZq0Kj"
      },
      "execution_count": 203,
      "outputs": []
    },
    {
      "cell_type": "code",
      "source": [
        "gb_model = GradientBoostingRegressor()"
      ],
      "metadata": {
        "id": "HxYTzsljq2j2"
      },
      "execution_count": 204,
      "outputs": []
    },
    {
      "cell_type": "code",
      "source": [
        "param_grid = {\n",
        "    'n_estimators': [50, 100, 200],\n",
        "    'learning_rate': [0.01, 0.05, 0.1],\n",
        "    'max_depth': [3, 4, 5],\n",
        "    'subsample': [0.7, 0.8, 1.0]\n",
        "}"
      ],
      "metadata": {
        "id": "R_LaeRqWq33r"
      },
      "execution_count": 205,
      "outputs": []
    },
    {
      "cell_type": "code",
      "source": [
        "# Initialize GridSearchCV\n",
        "grid_search = GridSearchCV(estimator=gb_model, param_grid=param_grid, cv=5, scoring='neg_mean_squared_error', n_jobs=-1)\n",
        "\n",
        "# Fit GridSearchCV\n",
        "grid_search.fit(X_train, y_train)"
      ],
      "metadata": {
        "id": "Zj_swi3Xq5R0"
      },
      "execution_count": null,
      "outputs": []
    }
  ]
}